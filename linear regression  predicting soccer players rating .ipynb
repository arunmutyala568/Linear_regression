{
 "cells": [
  {
   "cell_type": "markdown",
   "metadata": {},
   "source": [
    "# Data Cleaning part where we deal all Nan values "
   ]
  },
  {
   "cell_type": "code",
   "execution_count": 380,
   "metadata": {},
   "outputs": [
    {
     "data": {
      "text/plain": [
       "overall_rating        0\n",
       "potential             0\n",
       "crossing              0\n",
       "finishing             0\n",
       "heading_accuracy      0\n",
       "short_passing         0\n",
       "volleys               0\n",
       "dribbling             0\n",
       "curve                 0\n",
       "free_kick_accuracy    0\n",
       "long_passing          0\n",
       "ball_control          0\n",
       "acceleration          0\n",
       "sprint_speed          0\n",
       "agility               0\n",
       "reactions             0\n",
       "balance               0\n",
       "shot_power            0\n",
       "jumping               0\n",
       "stamina               0\n",
       "strength              0\n",
       "long_shots            0\n",
       "aggression            0\n",
       "interceptions         0\n",
       "positioning           0\n",
       "vision                0\n",
       "penalties             0\n",
       "marking               0\n",
       "standing_tackle       0\n",
       "sliding_tackle        0\n",
       "gk_diving             0\n",
       "gk_handling           0\n",
       "gk_kicking            0\n",
       "gk_positioning        0\n",
       "gk_reflexes           0\n",
       "dtype: int64"
      ]
     },
     "execution_count": 380,
     "metadata": {},
     "output_type": "execute_result"
    }
   ],
   "source": [
    "import pandas as pd\n",
    "import sqlite3 as db\n",
    "from pandasql import sqldf as mysql\n",
    "import os\n",
    "import matplotlib.pyplot as plt\n",
    "import seaborn as sns\n",
    "\n",
    "\n",
    "# \n",
    "try:\n",
    "    mydb= db.connect('D:\\\\wanted.sqlite')\n",
    "except Error:\n",
    "    print(Error)\n",
    "    \n",
    "    \n",
    "qry=\"select overall_rating,potential,crossing,finishing, heading_accuracy ,short_passing ,volleys, dribbling,curve,free_kick_accuracy,long_passing,ball_control,acceleration,\\n\"+\"sprint_speed,agility,reactions,balance,shot_power,jumping,stamina,strength,long_shots,aggression,interceptions,positioning,vision,penalties,marking,\\n\"+\"standing_tackle,sliding_tackle,gk_diving,gk_handling,gk_kicking,gk_positioning,gk_reflexes\\n\"+\"from\\n\"+\"player\\n\"+\"inner join player_attributes\\n\"+\"on player.player_api_id=player_attributes.player_api_id\"\n",
    "\n",
    "qry2=\"select overall_rating,potential,crossing,finishing, heading_accuracy ,short_passing ,volleys, dribbling,curve,free_kick_accuracy,long_passing,ball_control,acceleration,\\n\"+\"sprint_speed,agility,reactions,balance,shot_power,jumping,stamina,strength,long_shots,aggression,interceptions,positioning,vision,penalties,marking,\\n\"+\"standing_tackle,sliding_tackle,gk_diving,gk_handling,gk_kicking,gk_positioning,gk_reflexes\\n\"+\"from\\n\"+\"player\\n\"+\"inner join player_attributes\\n\"+\"on player.player_api_id=player_attributes.player_api_id where overall_rating=84 limit 1 \"\n",
    "\n",
    "#print(qry)\n",
    "mydf=pd.read_sql_query(qry,mydb)\n",
    "testdf=pd.read_sql_query(qry2,mydb)\n",
    "mydf.isnull().sum()\n",
    "\n",
    "\n",
    "#print(mydf['potential'].mean())\n",
    "\n",
    "#for i in mydf.columns:\n",
    "#    i\n",
    "#        mydf[i].fillna(mydf[i].median(),inplace=True)\n",
    "\n",
    "\n",
    "# you can plot graphs aganist overall_rating and other attributes where they establish linear relation , \n",
    "#since its getting hard for me to run every time ,im disabling it for now\n",
    "\n",
    "mydf.fillna(0,axis=1,inplace=True)\n",
    "mydf.isnull().sum()"
   ]
  },
  {
   "cell_type": "markdown",
   "metadata": {},
   "source": [
    "# Trianing model with linear regession begins here"
   ]
  },
  {
   "cell_type": "code",
   "execution_count": 381,
   "metadata": {},
   "outputs": [],
   "source": [
    "from sklearn import linear_model\n",
    "import numpy as np\n",
    "from sklearn.model_selection import train_test_split"
   ]
  },
  {
   "cell_type": "markdown",
   "metadata": {},
   "source": [
    "# Y is my dependent variable "
   ]
  },
  {
   "cell_type": "code",
   "execution_count": 382,
   "metadata": {},
   "outputs": [],
   "source": [
    "reg=linear_model.LinearRegression()\n",
    "\n",
    "y=mydf[['overall_rating']]"
   ]
  },
  {
   "cell_type": "markdown",
   "metadata": {},
   "source": [
    "# X is my independent variable which would effect my dependent variable y"
   ]
  },
  {
   "cell_type": "code",
   "execution_count": 383,
   "metadata": {},
   "outputs": [
    {
     "data": {
      "text/html": [
       "<div>\n",
       "<style scoped>\n",
       "    .dataframe tbody tr th:only-of-type {\n",
       "        vertical-align: middle;\n",
       "    }\n",
       "\n",
       "    .dataframe tbody tr th {\n",
       "        vertical-align: top;\n",
       "    }\n",
       "\n",
       "    .dataframe thead th {\n",
       "        text-align: right;\n",
       "    }\n",
       "</style>\n",
       "<table border=\"1\" class=\"dataframe\">\n",
       "  <thead>\n",
       "    <tr style=\"text-align: right;\">\n",
       "      <th></th>\n",
       "      <th>potential</th>\n",
       "      <th>crossing</th>\n",
       "      <th>finishing</th>\n",
       "      <th>heading_accuracy</th>\n",
       "      <th>short_passing</th>\n",
       "      <th>volleys</th>\n",
       "      <th>dribbling</th>\n",
       "      <th>curve</th>\n",
       "      <th>free_kick_accuracy</th>\n",
       "      <th>long_passing</th>\n",
       "      <th>...</th>\n",
       "      <th>vision</th>\n",
       "      <th>penalties</th>\n",
       "      <th>marking</th>\n",
       "      <th>standing_tackle</th>\n",
       "      <th>sliding_tackle</th>\n",
       "      <th>gk_diving</th>\n",
       "      <th>gk_handling</th>\n",
       "      <th>gk_kicking</th>\n",
       "      <th>gk_positioning</th>\n",
       "      <th>gk_reflexes</th>\n",
       "    </tr>\n",
       "  </thead>\n",
       "  <tbody>\n",
       "    <tr>\n",
       "      <th>0</th>\n",
       "      <td>71.0</td>\n",
       "      <td>49.0</td>\n",
       "      <td>44.0</td>\n",
       "      <td>71.0</td>\n",
       "      <td>61.0</td>\n",
       "      <td>44.0</td>\n",
       "      <td>51.0</td>\n",
       "      <td>45.0</td>\n",
       "      <td>39.0</td>\n",
       "      <td>64.0</td>\n",
       "      <td>...</td>\n",
       "      <td>54.0</td>\n",
       "      <td>48.0</td>\n",
       "      <td>65.0</td>\n",
       "      <td>69.0</td>\n",
       "      <td>69.0</td>\n",
       "      <td>6.0</td>\n",
       "      <td>11.0</td>\n",
       "      <td>10.0</td>\n",
       "      <td>8.0</td>\n",
       "      <td>8.0</td>\n",
       "    </tr>\n",
       "    <tr>\n",
       "      <th>1</th>\n",
       "      <td>71.0</td>\n",
       "      <td>49.0</td>\n",
       "      <td>44.0</td>\n",
       "      <td>71.0</td>\n",
       "      <td>61.0</td>\n",
       "      <td>44.0</td>\n",
       "      <td>51.0</td>\n",
       "      <td>45.0</td>\n",
       "      <td>39.0</td>\n",
       "      <td>64.0</td>\n",
       "      <td>...</td>\n",
       "      <td>54.0</td>\n",
       "      <td>48.0</td>\n",
       "      <td>65.0</td>\n",
       "      <td>69.0</td>\n",
       "      <td>69.0</td>\n",
       "      <td>6.0</td>\n",
       "      <td>11.0</td>\n",
       "      <td>10.0</td>\n",
       "      <td>8.0</td>\n",
       "      <td>8.0</td>\n",
       "    </tr>\n",
       "    <tr>\n",
       "      <th>2</th>\n",
       "      <td>66.0</td>\n",
       "      <td>49.0</td>\n",
       "      <td>44.0</td>\n",
       "      <td>71.0</td>\n",
       "      <td>61.0</td>\n",
       "      <td>44.0</td>\n",
       "      <td>51.0</td>\n",
       "      <td>45.0</td>\n",
       "      <td>39.0</td>\n",
       "      <td>64.0</td>\n",
       "      <td>...</td>\n",
       "      <td>54.0</td>\n",
       "      <td>48.0</td>\n",
       "      <td>65.0</td>\n",
       "      <td>66.0</td>\n",
       "      <td>69.0</td>\n",
       "      <td>6.0</td>\n",
       "      <td>11.0</td>\n",
       "      <td>10.0</td>\n",
       "      <td>8.0</td>\n",
       "      <td>8.0</td>\n",
       "    </tr>\n",
       "    <tr>\n",
       "      <th>3</th>\n",
       "      <td>65.0</td>\n",
       "      <td>48.0</td>\n",
       "      <td>43.0</td>\n",
       "      <td>70.0</td>\n",
       "      <td>60.0</td>\n",
       "      <td>43.0</td>\n",
       "      <td>50.0</td>\n",
       "      <td>44.0</td>\n",
       "      <td>38.0</td>\n",
       "      <td>63.0</td>\n",
       "      <td>...</td>\n",
       "      <td>53.0</td>\n",
       "      <td>47.0</td>\n",
       "      <td>62.0</td>\n",
       "      <td>63.0</td>\n",
       "      <td>66.0</td>\n",
       "      <td>5.0</td>\n",
       "      <td>10.0</td>\n",
       "      <td>9.0</td>\n",
       "      <td>7.0</td>\n",
       "      <td>7.0</td>\n",
       "    </tr>\n",
       "    <tr>\n",
       "      <th>4</th>\n",
       "      <td>65.0</td>\n",
       "      <td>48.0</td>\n",
       "      <td>43.0</td>\n",
       "      <td>70.0</td>\n",
       "      <td>60.0</td>\n",
       "      <td>43.0</td>\n",
       "      <td>50.0</td>\n",
       "      <td>44.0</td>\n",
       "      <td>38.0</td>\n",
       "      <td>63.0</td>\n",
       "      <td>...</td>\n",
       "      <td>53.0</td>\n",
       "      <td>47.0</td>\n",
       "      <td>62.0</td>\n",
       "      <td>63.0</td>\n",
       "      <td>66.0</td>\n",
       "      <td>5.0</td>\n",
       "      <td>10.0</td>\n",
       "      <td>9.0</td>\n",
       "      <td>7.0</td>\n",
       "      <td>7.0</td>\n",
       "    </tr>\n",
       "  </tbody>\n",
       "</table>\n",
       "<p>5 rows × 34 columns</p>\n",
       "</div>"
      ],
      "text/plain": [
       "   potential  crossing  finishing  heading_accuracy  short_passing  volleys  \\\n",
       "0       71.0      49.0       44.0              71.0           61.0     44.0   \n",
       "1       71.0      49.0       44.0              71.0           61.0     44.0   \n",
       "2       66.0      49.0       44.0              71.0           61.0     44.0   \n",
       "3       65.0      48.0       43.0              70.0           60.0     43.0   \n",
       "4       65.0      48.0       43.0              70.0           60.0     43.0   \n",
       "\n",
       "   dribbling  curve  free_kick_accuracy  long_passing  ...  vision  penalties  \\\n",
       "0       51.0   45.0                39.0          64.0  ...    54.0       48.0   \n",
       "1       51.0   45.0                39.0          64.0  ...    54.0       48.0   \n",
       "2       51.0   45.0                39.0          64.0  ...    54.0       48.0   \n",
       "3       50.0   44.0                38.0          63.0  ...    53.0       47.0   \n",
       "4       50.0   44.0                38.0          63.0  ...    53.0       47.0   \n",
       "\n",
       "   marking  standing_tackle  sliding_tackle  gk_diving  gk_handling  \\\n",
       "0     65.0             69.0            69.0        6.0         11.0   \n",
       "1     65.0             69.0            69.0        6.0         11.0   \n",
       "2     65.0             66.0            69.0        6.0         11.0   \n",
       "3     62.0             63.0            66.0        5.0         10.0   \n",
       "4     62.0             63.0            66.0        5.0         10.0   \n",
       "\n",
       "   gk_kicking  gk_positioning  gk_reflexes  \n",
       "0        10.0             8.0          8.0  \n",
       "1        10.0             8.0          8.0  \n",
       "2        10.0             8.0          8.0  \n",
       "3         9.0             7.0          7.0  \n",
       "4         9.0             7.0          7.0  \n",
       "\n",
       "[5 rows x 34 columns]"
      ]
     },
     "execution_count": 383,
     "metadata": {},
     "output_type": "execute_result"
    }
   ],
   "source": [
    "mylist=[]\n",
    "for i in mydf.columns:\n",
    "    if str(i)==\"overall_rating\":\n",
    "        pass\n",
    "    else:\n",
    "        mylist.append(i)\n",
    "X=mydf[mylist]\n",
    "\n",
    "mylist\n",
    "\n",
    "X.head()"
   ]
  },
  {
   "cell_type": "code",
   "execution_count": 384,
   "metadata": {},
   "outputs": [
    {
     "data": {
      "text/plain": [
       "LinearRegression(copy_X=True, fit_intercept=True, n_jobs=None,\n",
       "         normalize=False)"
      ]
     },
     "execution_count": 384,
     "metadata": {},
     "output_type": "execute_result"
    }
   ],
   "source": [
    "\n",
    "X_train, X_test, y_train, y_test = train_test_split(X, y, test_size=0.33, random_state=42)\n",
    "\n",
    "reg.fit(X_train,y_train)\n"
   ]
  },
  {
   "cell_type": "code",
   "execution_count": 385,
   "metadata": {},
   "outputs": [
    {
     "data": {
      "text/plain": [
       "array([[69.79732687],\n",
       "       [63.50233206],\n",
       "       [68.5215456 ],\n",
       "       ...,\n",
       "       [62.47208836],\n",
       "       [64.14237232],\n",
       "       [63.9311658 ]])"
      ]
     },
     "execution_count": 385,
     "metadata": {},
     "output_type": "execute_result"
    }
   ],
   "source": [
    "y_pred=reg.predict(X_test)\n",
    "\n",
    "y_pred"
   ]
  },
  {
   "cell_type": "code",
   "execution_count": 386,
   "metadata": {
    "scrolled": true
   },
   "outputs": [
    {
     "data": {
      "text/html": [
       "<div>\n",
       "<style scoped>\n",
       "    .dataframe tbody tr th:only-of-type {\n",
       "        vertical-align: middle;\n",
       "    }\n",
       "\n",
       "    .dataframe tbody tr th {\n",
       "        vertical-align: top;\n",
       "    }\n",
       "\n",
       "    .dataframe thead th {\n",
       "        text-align: right;\n",
       "    }\n",
       "</style>\n",
       "<table border=\"1\" class=\"dataframe\">\n",
       "  <thead>\n",
       "    <tr style=\"text-align: right;\">\n",
       "      <th></th>\n",
       "      <th>overall_rating</th>\n",
       "    </tr>\n",
       "  </thead>\n",
       "  <tbody>\n",
       "    <tr>\n",
       "      <th>73021</th>\n",
       "      <td>74.0</td>\n",
       "    </tr>\n",
       "    <tr>\n",
       "      <th>5870</th>\n",
       "      <td>67.0</td>\n",
       "    </tr>\n",
       "    <tr>\n",
       "      <th>93692</th>\n",
       "      <td>70.0</td>\n",
       "    </tr>\n",
       "    <tr>\n",
       "      <th>90650</th>\n",
       "      <td>71.0</td>\n",
       "    </tr>\n",
       "    <tr>\n",
       "      <th>183894</th>\n",
       "      <td>69.0</td>\n",
       "    </tr>\n",
       "  </tbody>\n",
       "</table>\n",
       "</div>"
      ],
      "text/plain": [
       "        overall_rating\n",
       "73021             74.0\n",
       "5870              67.0\n",
       "93692             70.0\n",
       "90650             71.0\n",
       "183894            69.0"
      ]
     },
     "execution_count": 386,
     "metadata": {},
     "output_type": "execute_result"
    }
   ],
   "source": [
    "y_test.head()"
   ]
  },
  {
   "cell_type": "markdown",
   "metadata": {},
   "source": [
    "# r ssqure score is distance between the actual values and the predicted values and thier mean square "
   ]
  },
  {
   "cell_type": "code",
   "execution_count": 390,
   "metadata": {},
   "outputs": [
    {
     "data": {
      "text/plain": [
       "0.8870242452388846"
      ]
     },
     "execution_count": 390,
     "metadata": {},
     "output_type": "execute_result"
    }
   ],
   "source": [
    "from sklearn.metrics import r2_score\n",
    "\n",
    "r2_score(y_test, y_pred)"
   ]
  },
  {
   "cell_type": "code",
   "execution_count": 391,
   "metadata": {},
   "outputs": [
    {
     "data": {
      "text/html": [
       "<div>\n",
       "<style scoped>\n",
       "    .dataframe tbody tr th:only-of-type {\n",
       "        vertical-align: middle;\n",
       "    }\n",
       "\n",
       "    .dataframe tbody tr th {\n",
       "        vertical-align: top;\n",
       "    }\n",
       "\n",
       "    .dataframe thead th {\n",
       "        text-align: right;\n",
       "    }\n",
       "</style>\n",
       "<table border=\"1\" class=\"dataframe\">\n",
       "  <thead>\n",
       "    <tr style=\"text-align: right;\">\n",
       "      <th></th>\n",
       "      <th>potential</th>\n",
       "      <th>crossing</th>\n",
       "      <th>finishing</th>\n",
       "      <th>heading_accuracy</th>\n",
       "      <th>short_passing</th>\n",
       "      <th>volleys</th>\n",
       "      <th>dribbling</th>\n",
       "      <th>curve</th>\n",
       "      <th>free_kick_accuracy</th>\n",
       "      <th>long_passing</th>\n",
       "      <th>...</th>\n",
       "      <th>vision</th>\n",
       "      <th>penalties</th>\n",
       "      <th>marking</th>\n",
       "      <th>standing_tackle</th>\n",
       "      <th>sliding_tackle</th>\n",
       "      <th>gk_diving</th>\n",
       "      <th>gk_handling</th>\n",
       "      <th>gk_kicking</th>\n",
       "      <th>gk_positioning</th>\n",
       "      <th>gk_reflexes</th>\n",
       "    </tr>\n",
       "  </thead>\n",
       "  <tbody>\n",
       "    <tr>\n",
       "      <th>0</th>\n",
       "      <td>87</td>\n",
       "      <td>82</td>\n",
       "      <td>70</td>\n",
       "      <td>38</td>\n",
       "      <td>77</td>\n",
       "      <td>69</td>\n",
       "      <td>90</td>\n",
       "      <td>62</td>\n",
       "      <td>53</td>\n",
       "      <td>59</td>\n",
       "      <td>...</td>\n",
       "      <td>79</td>\n",
       "      <td>84</td>\n",
       "      <td>23</td>\n",
       "      <td>25</td>\n",
       "      <td>14</td>\n",
       "      <td>12</td>\n",
       "      <td>25</td>\n",
       "      <td>59</td>\n",
       "      <td>25</td>\n",
       "      <td>25</td>\n",
       "    </tr>\n",
       "  </tbody>\n",
       "</table>\n",
       "<p>1 rows × 34 columns</p>\n",
       "</div>"
      ],
      "text/plain": [
       "   potential  crossing  finishing  heading_accuracy  short_passing  volleys  \\\n",
       "0         87        82         70                38             77       69   \n",
       "\n",
       "   dribbling  curve  free_kick_accuracy  long_passing  ...  vision  penalties  \\\n",
       "0         90     62                  53            59  ...      79         84   \n",
       "\n",
       "   marking  standing_tackle  sliding_tackle  gk_diving  gk_handling  \\\n",
       "0       23               25              14         12           25   \n",
       "\n",
       "   gk_kicking  gk_positioning  gk_reflexes  \n",
       "0          59              25           25  \n",
       "\n",
       "[1 rows x 34 columns]"
      ]
     },
     "execution_count": 391,
     "metadata": {},
     "output_type": "execute_result"
    }
   ],
   "source": [
    "mylist2=[]\n",
    "for i in testdf.columns:\n",
    "    if str(i)==\"overall_rating\":\n",
    "        pass\n",
    "    else:\n",
    "        mylist2.append(i)\n",
    "X_testdf=testdf[mylist2]\n",
    "\n",
    "X_testdf"
   ]
  },
  {
   "cell_type": "code",
   "execution_count": 392,
   "metadata": {},
   "outputs": [
    {
     "data": {
      "text/plain": [
       "array([[79.66898365]])"
      ]
     },
     "execution_count": 392,
     "metadata": {},
     "output_type": "execute_result"
    }
   ],
   "source": [
    "y_pred2=reg.predict(X_testdf)\n",
    "\n",
    "y_pred2"
   ]
  },
  {
   "cell_type": "code",
   "execution_count": null,
   "metadata": {},
   "outputs": [],
   "source": []
  }
 ],
 "metadata": {
  "kernelspec": {
   "display_name": "Python 3",
   "language": "python",
   "name": "python3"
  },
  "language_info": {
   "codemirror_mode": {
    "name": "ipython",
    "version": 3
   },
   "file_extension": ".py",
   "mimetype": "text/x-python",
   "name": "python",
   "nbconvert_exporter": "python",
   "pygments_lexer": "ipython3",
   "version": "3.7.3"
  }
 },
 "nbformat": 4,
 "nbformat_minor": 2
}
